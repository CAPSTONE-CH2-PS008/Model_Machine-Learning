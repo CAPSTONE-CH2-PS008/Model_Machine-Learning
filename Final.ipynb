{
  "nbformat": 4,
  "nbformat_minor": 0,
  "metadata": {
    "colab": {
      "provenance": []
    },
    "kernelspec": {
      "name": "python3",
      "display_name": "Python 3"
    },
    "language_info": {
      "name": "python"
    }
  },
  "cells": [
    {
      "cell_type": "code",
      "execution_count": null,
      "metadata": {
        "id": "unTMVD4icmJf"
      },
      "outputs": [],
      "source": [
        "\n",
        "import tensorflow as tf\n",
        "from tensorflow.keras import models, layers, callbacks\n",
        "from sklearn.preprocessing import StandardScaler\n",
        "import numpy as np\n",
        "\n",
        "# Assuming X_train, X_test, y_train are defined and loaded\n",
        "\n",
        "# Standardize the data\n",
        "scaler = StandardScaler()\n",
        "X_train = scaler.fit_transform(X_train)\n",
        "X_test = scaler.transform(X_test)\n",
        "\n",
        "# Build the initial classification model\n",
        "model_classification = models.Sequential()\n",
        "model_classification.add(layers.Dense(64, activation='relu', input_shape=(X_train.shape[1],)))\n",
        "model_classification.add(layers.Dense(32, activation='relu'))\n",
        "model_classification.add(layers.Dense(np.max(y_train) + 1, activation='softmax'))\n",
        "\n",
        "# Compile the classification model\n",
        "model_classification.compile(optimizer='adam',\n",
        "                             loss='sparse_categorical_crossentropy',\n",
        "                             metrics=['accuracy'])\n",
        "\n",
        "# Train the classification model\n",
        "model_classification.fit(X_train, y_train,\n",
        "                         epochs=10,\n",
        "                         batch_size=32,\n",
        "                         validation_split=0.1,\n",
        "                         callbacks=[callbacks.ModelCheckpoint(filepath='best_classification_model.h5',\n",
        "                                                               monitor='val_loss',\n",
        "                                                               save_best_only=True,\n",
        "                                                               verbose=1)])\n",
        "\n",
        "# Save the model as a SavedModel\n",
        "tf.saved_model.save(model_classification, 'saved_model')\n",
        "\n",
        "# Load the SavedModel\n",
        "loaded_model = tf.saved_model.load('saved_model')\n",
        "\n",
        "# Use the trained classification model for predictions on the test set\n",
        "predictions = loaded_model.predict(X_test)\n",
        "\n",
        "predictions = np.argmax(predictions, axis=1)\n",
        "\n",
        "# Print the predictions\n",
        "print(predictions)\n"
      ]
    }
  ]
}